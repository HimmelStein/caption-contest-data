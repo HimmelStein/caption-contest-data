{
 "cells": [
  {
   "cell_type": "markdown",
   "metadata": {},
   "source": [
    "# How many responses per contest?"
   ]
  },
  {
   "cell_type": "markdown",
   "metadata": {},
   "source": [
    "This notebook will analyze\n",
    "\n",
    "1. the number of responses recorded in the CSVs\n",
    "2. the number of responses recorded in `info.png`."
   ]
  },
  {
   "cell_type": "code",
   "execution_count": null,
   "metadata": {
    "ExecuteTime": {
     "end_time": "2017-04-17T16:45:18.366875Z",
     "start_time": "2017-04-17T11:45:18.364200-05:00"
    }
   },
   "outputs": [],
   "source": [
    "import os\n",
    "import caption_contest_data as ccd"
   ]
  },
  {
   "cell_type": "code",
   "execution_count": null,
   "metadata": {},
   "outputs": [],
   "source": [
    "contests = ccd.summary_ids()\n",
    "print(contests)"
   ]
  },
  {
   "cell_type": "code",
   "execution_count": null,
   "metadata": {},
   "outputs": [],
   "source": [
    "len(contests)"
   ]
  },
  {
   "cell_type": "code",
   "execution_count": null,
   "metadata": {},
   "outputs": [],
   "source": [
    "summaries = [ccd.summary(c) for c in contests]"
   ]
  },
  {
   "cell_type": "code",
   "execution_count": null,
   "metadata": {},
   "outputs": [],
   "source": [
    "import pandas as pd\n",
    "summary = pd.concat(summaries, sort=False)"
   ]
  },
  {
   "cell_type": "code",
   "execution_count": null,
   "metadata": {},
   "outputs": [],
   "source": [
    "summary.head()"
   ]
  },
  {
   "cell_type": "code",
   "execution_count": null,
   "metadata": {},
   "outputs": [],
   "source": [
    "import numpy as np\n",
    "df = summary.pivot_table(index=\"contest\", values=\"count\", aggfunc=np.sum)\n",
    "df.head()"
   ]
  },
  {
   "cell_type": "code",
   "execution_count": null,
   "metadata": {},
   "outputs": [],
   "source": [
    "if \"count\" in df.columns:\n",
    "    df[\"responses\"] = df[\"count\"]\n",
    "    del df[\"count\"]\n",
    "df = df.sort_values(by=\"contest\")"
   ]
  },
  {
   "cell_type": "code",
   "execution_count": null,
   "metadata": {},
   "outputs": [],
   "source": [
    "show = df.iloc[-10:].copy()\n",
    "show[\"responses\"] /= 1e6"
   ]
  },
  {
   "cell_type": "code",
   "execution_count": null,
   "metadata": {},
   "outputs": [],
   "source": [
    "import matplotlib.pyplot as plt\n",
    "fig, ax = plt.subplots()\n",
    "show.plot.bar(ax=ax)\n",
    "ax.set_ylabel('responses (millions)')\n",
    "ax.legend_.remove()"
   ]
  },
  {
   "cell_type": "code",
   "execution_count": null,
   "metadata": {
    "ExecuteTime": {
     "end_time": "2017-04-17T17:39:41.838777Z",
     "start_time": "2017-04-17T12:39:41.819954-05:00"
    }
   },
   "outputs": [],
   "source": [
    "w = 4\n",
    "fig, ax = plt.subplots(figsize=(2 * w, 5*w))\n",
    "df.plot.barh(ax=ax)\n",
    "ax.grid(alpha=1)\n",
    "def func(value, _):\n",
    "    return \"{:0.1f}\".format(value / 1e6)\n",
    "ax.xaxis.set_major_formatter(plt.FuncFormatter(func))\n",
    "ax.set_xlabel(r\"Responses ($\\times 10^6$)\")\n",
    "ax.xaxis.set_major_locator(plt.MultipleLocator(0.2e6))"
   ]
  },
  {
   "cell_type": "code",
   "execution_count": null,
   "metadata": {},
   "outputs": [],
   "source": []
  }
 ],
 "metadata": {
  "kernelspec": {
   "display_name": "Python 3",
   "language": "python",
   "name": "python3"
  },
  "language_info": {
   "codemirror_mode": {
    "name": "ipython",
    "version": 3
   },
   "file_extension": ".py",
   "mimetype": "text/x-python",
   "name": "python",
   "nbconvert_exporter": "python",
   "pygments_lexer": "ipython3",
   "version": "3.7.5"
  }
 },
 "nbformat": 4,
 "nbformat_minor": 4
}
