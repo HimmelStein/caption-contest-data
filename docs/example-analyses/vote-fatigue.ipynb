{
 "cells": [
  {
   "cell_type": "markdown",
   "metadata": {},
   "source": [
    "# How do ratings behave after users have seen many captions?"
   ]
  },
  {
   "cell_type": "markdown",
   "metadata": {},
   "source": [
    "This notebook looks at the \"vote decay\" of users. The New Yorker caption contest organizer, Bob Mankoff, has received many emails like the one below (name/personal details left out for anonymity)\n",
    "\n",
    "> Here's my issue. \n",
    ">\n",
    "> First time I encounter something, I might say it's funny. \n",
    ">\n",
    "> Then it comes back in many forms over and over and it's no longer funny and I wish I could go back to the first one and say it's not funny. \n",
    ">\n",
    "> But it's funny, and then I can't decide whether to credit everyone with funny or keep hitting unfunny. What I really like to find out is who submitted it first, but often it's slightly different and there may be a best version. Auggh!\n",
    ">\n",
    "> How should we do this???\n",
    "\n",
    "We can investigate this: we have all the data at hand. We record the timestamp, participant ID and their rating for a given caption. So let's see how votes go after a user has seen $n$ captions!"
   ]
  },
  {
   "cell_type": "code",
   "execution_count": 1,
   "metadata": {
    "ExecuteTime": {
     "end_time": "2017-04-08T15:17:40.636479Z",
     "start_time": "2017-04-08T10:17:40.627942-05:00"
    }
   },
   "outputs": [],
   "source": [
    "%matplotlib inline\n",
    "import pandas as pd\n",
    "import numpy as np\n",
    "import matplotlib.pyplot as plt\n",
    "plt.style.use('seaborn')"
   ]
  },
  {
   "cell_type": "code",
   "execution_count": 2,
   "metadata": {},
   "outputs": [],
   "source": [
    "import caption_contest_data as ccd"
   ]
  },
  {
   "cell_type": "markdown",
   "metadata": {},
   "source": [
    "## Reading in data\n",
    "Let's read in the data. As the last column can contain a non-escaped comma, we have to fix that before doing any analysis.\n",
    "\n",
    "Note that two versions of this notebook exist (the previous notebook can be found in [43bc5d]). This highlights some of the differences required to read in the earlier datasets.\n",
    "\n",
    "[43bc5d]:https://github.com/nextml/caption-contest-data/commit/43bc5d23ee287b8b34cc4eb0181484bd21bbd341"
   ]
  },
  {
   "cell_type": "code",
   "execution_count": 3,
   "metadata": {
    "ExecuteTime": {
     "end_time": "2017-04-08T15:17:43.756748Z",
     "start_time": "2017-04-08T10:17:41.172668-05:00"
    }
   },
   "outputs": [
    {
     "name": "stdout",
     "output_type": "stream",
     "text": [
      "452547\n"
     ]
    },
    {
     "data": {
      "text/html": [
       "<div>\n",
       "<style scoped>\n",
       "    .dataframe tbody tr th:only-of-type {\n",
       "        vertical-align: middle;\n",
       "    }\n",
       "\n",
       "    .dataframe tbody tr th {\n",
       "        vertical-align: top;\n",
       "    }\n",
       "\n",
       "    .dataframe thead th {\n",
       "        text-align: right;\n",
       "    }\n",
       "</style>\n",
       "<table border=\"1\" class=\"dataframe\">\n",
       "  <thead>\n",
       "    <tr style=\"text-align: right;\">\n",
       "      <th></th>\n",
       "      <th>alg_label</th>\n",
       "      <th>network_delay</th>\n",
       "      <th>participant_uid</th>\n",
       "      <th>response_time</th>\n",
       "      <th>target</th>\n",
       "      <th>target_id</th>\n",
       "      <th>target_reward</th>\n",
       "      <th>timestamp_query_generated</th>\n",
       "      <th>label</th>\n",
       "      <th>contest</th>\n",
       "      <th>filename</th>\n",
       "    </tr>\n",
       "  </thead>\n",
       "  <tbody>\n",
       "    <tr>\n",
       "      <th>0</th>\n",
       "      <td>RandomSampling</td>\n",
       "      <td>0.094617</td>\n",
       "      <td>d43d742e06d25413ea83b2572248c2_hn5JVUAQmZ6YOgB...</td>\n",
       "      <td>5.051</td>\n",
       "      <td>Don't worry. You are safe with me.</td>\n",
       "      <td>360</td>\n",
       "      <td>1</td>\n",
       "      <td>2016-10-11 18:06:45.916540</td>\n",
       "      <td>unfunny</td>\n",
       "      <td>540</td>\n",
       "      <td>540-responses.csv</td>\n",
       "    </tr>\n",
       "    <tr>\n",
       "      <th>1</th>\n",
       "      <td>RandomSampling</td>\n",
       "      <td>0.099862</td>\n",
       "      <td>d43d742e06d25413ea83b2572248c2_hn5JVUAQmZ6YOgB...</td>\n",
       "      <td>5.884</td>\n",
       "      <td>I promise, all pre-existing conditions will no...</td>\n",
       "      <td>2104</td>\n",
       "      <td>1</td>\n",
       "      <td>2016-10-11 18:06:51.124120</td>\n",
       "      <td>unfunny</td>\n",
       "      <td>540</td>\n",
       "      <td>540-responses.csv</td>\n",
       "    </tr>\n",
       "    <tr>\n",
       "      <th>2</th>\n",
       "      <td>RandomSampling</td>\n",
       "      <td>0.089427</td>\n",
       "      <td>d43d742e06d25413ea83b2572248c2_hn5JVUAQmZ6YOgB...</td>\n",
       "      <td>2.103</td>\n",
       "      <td>You and me make a great combination Doc!</td>\n",
       "      <td>4206</td>\n",
       "      <td>1</td>\n",
       "      <td>2016-10-11 18:06:57.181677</td>\n",
       "      <td>unfunny</td>\n",
       "      <td>540</td>\n",
       "      <td>540-responses.csv</td>\n",
       "    </tr>\n",
       "    <tr>\n",
       "      <th>3</th>\n",
       "      <td>RandomSampling</td>\n",
       "      <td>0.087867</td>\n",
       "      <td>d43d742e06d25413ea83b2572248c2_hn5JVUAQmZ6YOgB...</td>\n",
       "      <td>4.746</td>\n",
       "      <td>Zika? No, you're safe.</td>\n",
       "      <td>412</td>\n",
       "      <td>1</td>\n",
       "      <td>2016-10-11 18:06:59.441917</td>\n",
       "      <td>unfunny</td>\n",
       "      <td>540</td>\n",
       "      <td>540-responses.csv</td>\n",
       "    </tr>\n",
       "    <tr>\n",
       "      <th>4</th>\n",
       "      <td>RandomSampling</td>\n",
       "      <td>0.089464</td>\n",
       "      <td>d43d742e06d25413ea83b2572248c2_hn5JVUAQmZ6YOgB...</td>\n",
       "      <td>15.780</td>\n",
       "      <td>Click ... to the right; click... to the left. ...</td>\n",
       "      <td>4415</td>\n",
       "      <td>1</td>\n",
       "      <td>2016-10-11 18:07:04.330232</td>\n",
       "      <td>unfunny</td>\n",
       "      <td>540</td>\n",
       "      <td>540-responses.csv</td>\n",
       "    </tr>\n",
       "  </tbody>\n",
       "</table>\n",
       "</div>"
      ],
      "text/plain": [
       "        alg_label  network_delay  \\\n",
       "0  RandomSampling       0.094617   \n",
       "1  RandomSampling       0.099862   \n",
       "2  RandomSampling       0.089427   \n",
       "3  RandomSampling       0.087867   \n",
       "4  RandomSampling       0.089464   \n",
       "\n",
       "                                     participant_uid  response_time  \\\n",
       "0  d43d742e06d25413ea83b2572248c2_hn5JVUAQmZ6YOgB...          5.051   \n",
       "1  d43d742e06d25413ea83b2572248c2_hn5JVUAQmZ6YOgB...          5.884   \n",
       "2  d43d742e06d25413ea83b2572248c2_hn5JVUAQmZ6YOgB...          2.103   \n",
       "3  d43d742e06d25413ea83b2572248c2_hn5JVUAQmZ6YOgB...          4.746   \n",
       "4  d43d742e06d25413ea83b2572248c2_hn5JVUAQmZ6YOgB...         15.780   \n",
       "\n",
       "                                              target  target_id  \\\n",
       "0                 Don't worry. You are safe with me.        360   \n",
       "1  I promise, all pre-existing conditions will no...       2104   \n",
       "2           You and me make a great combination Doc!       4206   \n",
       "3                             Zika? No, you're safe.        412   \n",
       "4  Click ... to the right; click... to the left. ...       4415   \n",
       "\n",
       "   target_reward  timestamp_query_generated    label  contest  \\\n",
       "0              1 2016-10-11 18:06:45.916540  unfunny      540   \n",
       "1              1 2016-10-11 18:06:51.124120  unfunny      540   \n",
       "2              1 2016-10-11 18:06:57.181677  unfunny      540   \n",
       "3              1 2016-10-11 18:06:59.441917  unfunny      540   \n",
       "4              1 2016-10-11 18:07:04.330232  unfunny      540   \n",
       "\n",
       "            filename  \n",
       "0  540-responses.csv  \n",
       "1  540-responses.csv  \n",
       "2  540-responses.csv  \n",
       "3  540-responses.csv  \n",
       "4  540-responses.csv  "
      ]
     },
     "execution_count": 3,
     "metadata": {},
     "output_type": "execute_result"
    }
   ],
   "source": [
    "contest = 540\n",
    "\n",
    "responses = ccd.responses(contest)\n",
    "\n",
    "print(len(responses))\n",
    "responses.head()"
   ]
  },
  {
   "cell_type": "markdown",
   "metadata": {
    "ExecuteTime": {
     "end_time": "2016-10-05T08:25:55.674349",
     "start_time": "2016-10-05T08:25:55.671061"
    }
   },
   "source": [
    "## Seeing how many captions a user has seen\n",
    "This is the workhorse of the notebook: it sees how many captions one participant has seen. I sorted by timestamp (and with an actual timestamp, not a str) to collect the ratings in the order a user has seen. I do not assume that only one user answers at a time."
   ]
  },
  {
   "cell_type": "code",
   "execution_count": 4,
   "metadata": {
    "ExecuteTime": {
     "end_time": "2017-04-08T15:17:45.870811Z",
     "start_time": "2017-04-08T10:17:45.801899-05:00"
    }
   },
   "outputs": [],
   "source": [
    "last_id = None\n",
    "i = 0\n",
    "num_responses = []\n",
    "captions_seen = []\n",
    "responses = responses.sort_values(by='timestamp_query_generated')\n",
    "# responses = responses[0:1000]  # debug"
   ]
  },
  {
   "cell_type": "code",
   "execution_count": null,
   "metadata": {
    "ExecuteTime": {
     "end_time": "2017-04-08T15:18:25.357910Z",
     "start_time": "2017-04-08T10:17:46.281828-05:00"
    }
   },
   "outputs": [],
   "source": [
    "captions_seen_by = {}\n",
    "captions_seen = []\n",
    "for _, response in responses.iterrows():\n",
    "    id_, rating = response['participant_uid'], response['target_reward']\n",
    "    if id_ not in captions_seen_by:\n",
    "        captions_seen_by[id_] = 0\n",
    "    captions_seen_by[id_] += 1\n",
    "    captions_seen += [captions_seen_by[id_]]\n",
    "    num_responses += [i]"
   ]
  },
  {
   "cell_type": "code",
   "execution_count": null,
   "metadata": {
    "ExecuteTime": {
     "end_time": "2017-04-08T15:18:25.435270Z",
     "start_time": "2017-04-08T10:18:25.359680-05:00"
    }
   },
   "outputs": [],
   "source": [
    "responses['number of captions seen'] = captions_seen\n",
    "responses.head()"
   ]
  },
  {
   "cell_type": "markdown",
   "metadata": {},
   "source": [
    "## Viewing the data\n",
    "Now let's format the data to view it. We can view the data in two ways: as we only have three rating values, we can view the probability of a person rating 1, 2 or 3, and can also view the mean.\n",
    "\n",
    "In this, we rely on `pd.pivot_table`. This can take DataFrame that looks like a list of dictionaries and compute `aggfunc` (by default `np.mean`) for all items that contain common keys (indicated by `index` and `columns`). It's similar to Excel's pivot table functionality."
   ]
  },
  {
   "cell_type": "markdown",
   "metadata": {},
   "source": [
    "### Probability of rating {1, 2, 3}"
   ]
  },
  {
   "cell_type": "code",
   "execution_count": null,
   "metadata": {
    "ExecuteTime": {
     "end_time": "2017-04-08T15:18:28.415936Z",
     "start_time": "2017-04-08T10:18:25.436539-05:00"
    }
   },
   "outputs": [],
   "source": [
    "def prob(x):\n",
    "    n = len(x)\n",
    "    ret = {'n': n}\n",
    "    ret.update({name: np.sum(x == i) for name, i in [('unfunny', 1),\n",
    "                                                  ('somewhat funny', 2),\n",
    "                                                  ('funny', 3)]})\n",
    "    return ret\n",
    "\n",
    "probs = responses.pivot_table(index='number of captions seen',\n",
    "                              columns='alg_label', values='target_reward',\n",
    "                              aggfunc=prob)\n",
    "probs.head()"
   ]
  },
  {
   "cell_type": "code",
   "execution_count": null,
   "metadata": {
    "ExecuteTime": {
     "end_time": "2017-04-08T15:18:28.498205Z",
     "start_time": "2017-04-08T10:18:28.417968-05:00"
    }
   },
   "outputs": [],
   "source": [
    "d = {label: dict(probs[label]) for label in ['RandomSampling']}\n",
    "for label in d.keys():\n",
    "    for n in d[label].keys():\n",
    "        if d[label][n] is None:\n",
    "            continue\n",
    "        for rating in ['unfunny', 'somewhat funny', 'funny']:\n",
    "            d[label][n][rating] = d[label][n][rating] / d[label][n]['n']"
   ]
  },
  {
   "cell_type": "code",
   "execution_count": null,
   "metadata": {
    "ExecuteTime": {
     "end_time": "2017-04-08T15:18:28.669141Z",
     "start_time": "2017-04-08T10:18:28.499881-05:00"
    }
   },
   "outputs": [],
   "source": [
    "df = pd.DataFrame(d['RandomSampling']).T\n",
    "df = pd.concat({'RandomSampling': df}, axis=1)\n",
    "df.head()"
   ]
  },
  {
   "cell_type": "code",
   "execution_count": null,
   "metadata": {},
   "outputs": [],
   "source": [
    "plt.style.use(\"default\")\n",
    "\n",
    "fig, axs = plt.subplots(figsize=(8, 4), ncols=2)\n",
    "\n",
    "alg = \"RandomSampling\"\n",
    "show = df[alg].copy()\n",
    "show[\"captions seen\"] = show.index\n",
    "\n",
    "for y in [\"funny\", \"somewhat funny\", \"unfunny\"]:\n",
    "    show.plot(x=\"captions seen\", y=y, ax=axs[0])\n",
    "show.plot(x=\"captions seen\", y=\"n\", ax=axs[1])\n",
    "\n",
    "for ax in axs:\n",
    "    ax.set_xlim(0, 100)\n",
    "    ax.grid(linestyle='--', alpha=0.5)\n"
   ]
  },
  {
   "cell_type": "code",
   "execution_count": null,
   "metadata": {
    "ExecuteTime": {
     "end_time": "2017-04-08T15:18:29.304985Z",
     "start_time": "2017-04-08T10:18:28.671131-05:00"
    }
   },
   "outputs": [],
   "source": [
    "plt.style.use(\"default\")\n",
    "\n",
    "def plot(alg):\n",
    "    fig = plt.figure(figsize=(10, 5))\n",
    "    ax = plt.subplot(1, 2, 1)\n",
    "    df[alg][['unfunny', 'somewhat funny', 'funny']].plot(ax=ax)\n",
    "    plt.xlim(0, 100)\n",
    "    plt.title('{} ratings\\nfor contest {}'.format(alg, contest))\n",
    "    plt.ylabel('Probability of rating')\n",
    "    plt.xlabel('Number of captions seen')\n",
    "    plt.grid(linestyle=\"--\", alpha=0.6)\n",
    "\n",
    "    ax = plt.subplot(1, 2, 2)\n",
    "    df[alg]['n'].plot(ax=ax, logy=False)\n",
    "    plt.ylabel('Number of users')\n",
    "    plt.xlabel('Number of captions seen, $n$')\n",
    "    plt.title('Number of users that have\\nseen $n$ captions')\n",
    "    plt.xlim(0, 100)\n",
    "    plt.grid(linestyle=\"--\", alpha=0.6)\n",
    "    \n",
    "for alg in ['RandomSampling']:\n",
    "    fig = plot(alg)\n",
    "    plt.show()"
   ]
  },
  {
   "cell_type": "code",
   "execution_count": null,
   "metadata": {},
   "outputs": [],
   "source": []
  }
 ],
 "metadata": {
  "kernelspec": {
   "display_name": "Python 3",
   "language": "python",
   "name": "python3"
  },
  "language_info": {
   "codemirror_mode": {
    "name": "ipython",
    "version": 3
   },
   "file_extension": ".py",
   "mimetype": "text/x-python",
   "name": "python",
   "nbconvert_exporter": "python",
   "pygments_lexer": "ipython3",
   "version": "3.7.5"
  },
  "nav_menu": {},
  "notify_time": "5",
  "toc": {
   "navigate_menu": true,
   "number_sections": false,
   "sideBar": true,
   "threshold": "2",
   "toc_cell": false,
   "toc_section_display": "block",
   "toc_window_display": false
  }
 },
 "nbformat": 4,
 "nbformat_minor": 4
}
