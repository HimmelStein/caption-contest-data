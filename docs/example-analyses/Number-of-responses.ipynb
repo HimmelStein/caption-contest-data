{
 "cells": [
  {
   "cell_type": "markdown",
   "metadata": {},
   "source": [
    "# How many responses per contest?"
   ]
  },
  {
   "cell_type": "markdown",
   "metadata": {},
   "source": [
    "This notebook will analyze the number of responses/captions per contest, both treating all contest equally and throughout time."
   ]
  },
  {
   "cell_type": "code",
   "execution_count": null,
   "metadata": {
    "ExecuteTime": {
     "end_time": "2017-04-17T16:45:18.366875Z",
     "start_time": "2017-04-17T11:45:18.364200-05:00"
    }
   },
   "outputs": [],
   "source": [
    "import os\n",
    "import caption_contest_data as ccd"
   ]
  },
  {
   "cell_type": "code",
   "execution_count": null,
   "metadata": {},
   "outputs": [],
   "source": [
    "contests = ccd.summary_ids()\n",
    "print(contests)"
   ]
  },
  {
   "cell_type": "code",
   "execution_count": null,
   "metadata": {},
   "outputs": [],
   "source": [
    "len(contests)"
   ]
  },
  {
   "cell_type": "code",
   "execution_count": null,
   "metadata": {},
   "outputs": [],
   "source": [
    "summaries = [ccd.summary(c) for c in contests]"
   ]
  },
  {
   "cell_type": "code",
   "execution_count": null,
   "metadata": {},
   "outputs": [],
   "source": [
    "import pandas as pd\n",
    "summary = pd.concat(summaries, sort=False)"
   ]
  },
  {
   "cell_type": "code",
   "execution_count": null,
   "metadata": {},
   "outputs": [],
   "source": [
    "summary.head()"
   ]
  },
  {
   "cell_type": "code",
   "execution_count": null,
   "metadata": {},
   "outputs": [],
   "source": [
    "import numpy as np\n",
    "counts = summary.pivot_table(index=\"contest\", values=\"count\", aggfunc=np.sum)\n",
    "nunique = summary.pivot_table(index=\"contest\", values=\"caption\", aggfunc=lambda x: x.nunique())\n",
    "df = pd.merge(counts, nunique, left_index=True, right_index=True)\n",
    "df[\"n_unique\"] = df[\"caption\"]\n",
    "df.drop(columns=\"caption\", inplace=True)\n",
    "df.head()"
   ]
  },
  {
   "cell_type": "code",
   "execution_count": null,
   "metadata": {},
   "outputs": [],
   "source": [
    "df.index.unique()"
   ]
  },
  {
   "cell_type": "code",
   "execution_count": null,
   "metadata": {},
   "outputs": [],
   "source": [
    "\"{} million human responses\".format(df[\"count\"].sum() / 1e6)"
   ]
  },
  {
   "cell_type": "code",
   "execution_count": null,
   "metadata": {},
   "outputs": [],
   "source": [
    "\"{} captions\".format(df[\"n_unique\"].sum())"
   ]
  },
  {
   "cell_type": "code",
   "execution_count": null,
   "metadata": {},
   "outputs": [],
   "source": [
    "\"{} contests\".format(len(df))"
   ]
  },
  {
   "cell_type": "code",
   "execution_count": null,
   "metadata": {},
   "outputs": [],
   "source": [
    "responses = df[\"count\"] / 1e6\n",
    "ax = responses.plot.hist(bins=20)\n",
    "ax.set_xlabel(\"Responses (millions)\")"
   ]
  },
  {
   "cell_type": "code",
   "execution_count": null,
   "metadata": {},
   "outputs": [],
   "source": [
    "responses = df[\"n_unique\"]\n",
    "ax = responses.plot.hist(bins=20)\n",
    "ax.set_xlabel(\"Unique captions\")"
   ]
  },
  {
   "cell_type": "code",
   "execution_count": null,
   "metadata": {},
   "outputs": [],
   "source": [
    "ax = df.reset_index().plot(x=\"contest\", y=\"count\")\n",
    "ax.set_yscale(\"log\")\n",
    "ax.grid()\n",
    "ax.grid(which=\"minor\", alpha=0.4)\n",
    "ax.set_ylabel(\"Number of responses\")"
   ]
  },
  {
   "cell_type": "code",
   "execution_count": null,
   "metadata": {},
   "outputs": [],
   "source": [
    "ax = df.reset_index().plot(x=\"contest\", y=\"n_unique\")\n",
    "ax.set_ylabel(\"Number of captions\")"
   ]
  },
  {
   "cell_type": "code",
   "execution_count": null,
   "metadata": {},
   "outputs": [],
   "source": []
  }
 ],
 "metadata": {
  "kernelspec": {
   "display_name": "Python 3",
   "language": "python",
   "name": "python3"
  },
  "language_info": {
   "codemirror_mode": {
    "name": "ipython",
    "version": 3
   },
   "file_extension": ".py",
   "mimetype": "text/x-python",
   "name": "python",
   "nbconvert_exporter": "python",
   "pygments_lexer": "ipython3",
   "version": "3.7.4"
  }
 },
 "nbformat": 4,
 "nbformat_minor": 4
}
