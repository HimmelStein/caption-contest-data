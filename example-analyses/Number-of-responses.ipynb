{
 "cells": [
  {
   "cell_type": "markdown",
   "metadata": {},
   "source": [
    "This notebook will analyze\n",
    "\n",
    "1. the number of responses recorded in the CSVs\n",
    "2. the number of responses recorded in `info.png`."
   ]
  },
  {
   "cell_type": "code",
   "execution_count": 1,
   "metadata": {
    "ExecuteTime": {
     "end_time": "2017-04-17T16:45:18.366875Z",
     "start_time": "2017-04-17T11:45:18.364200-05:00"
    }
   },
   "outputs": [],
   "source": [
    "import os\n",
    "import caption_contest_data as ccd"
   ]
  },
  {
   "cell_type": "code",
   "execution_count": 2,
   "metadata": {},
   "outputs": [
    {
     "name": "stdout",
     "output_type": "stream",
     "text": [
      "{'510_summary_LilUCB.csv', '519_summary_RoundRobin.csv', '511_summary_LilUCB.csv', 520, 521, 522, 523, 524, 526, 527, 528, '514_summary_RoundRobin.csv', 529, 530, 531, 532, 533, 534, 535, 536, 537, 538, 539, 540, 541, 542, 543, 544, 545, 547, 548, 546, 550, 551, 552, 553, 549, 555, 556, 557, 558, 554, 561, 562, '519_summary_LilUCB.csv', 563, 564, 565, 566, 567, 568, 569, 570, 571, 572, 573, 574, 575, 576, 577, 578, 579, '517_summary_LilUCB.csv', 580, 581, 582, 583, 584, 585, 586, 587, 588, 589, 590, 591, 592, 593, 594, 595, 596, 597, 598, 599, 600, 601, 602, 603, 604, '508-round1_summary_RoundRobin.csv', '560_summary_KLUCB_funny.csv', 605, 606, 607, 608, 609, 610, 611, 612, 613, 614, 615, 616, 617, 618, 619, 620, 621, 622, 623, 624, 625, 626, 627, 628, '517_summary_RoundRobin.csv', 629, 630, 631, 632, 633, 634, 635, 636, 637, '559_summary_KLUCB.csv', 638, 639, 640, 641, '508-round2_summary_RoundRobin.csv', 642, 643, 644, 645, 646, 647, 648, 649, 650, 651, 652, 653, 654, 655, 656, 657, 658, '515_summary_RoundRobin.csv', '516_summary_RoundRobin.csv', '514_summary_LilUCB.csv', '518_summary_LilUCB.csv', 661, 662, 663, 665, 666, 667, 668, 669, 670, 671, 672, 673, 674, 675, 676, 677, 678, 679, 680, 681, 682, 683, 684, '560_summary_KLUCB_original.csv', '513_summary_LilUCB.csv', '559_summary_RandomSamping.csv', '509-round1_summary_RoundRobin.csv', 659, 660, '509-round1_summary_LilUCB.csv', '516_summary_LilUCB.csv', '509-round2_summary_RoundRobin.csv', '518_summary_RoundRobin.csv', '508-round1_summary_LilUCB.csv', '559_summary_LilUCB.csv', '515_summary_LilUCB.csv', '511_summary_RoundRobin.csv', '513_summary_RoundRobin.csv', '510_summary_RoundRobin.csv', '512_summary_RoundRobin.csv', '512_summary_LilUCB.csv'}\n"
     ]
    }
   ],
   "source": [
    "contests = ccd.all_contests()\n",
    "print(contests)"
   ]
  },
  {
   "cell_type": "code",
   "execution_count": 3,
   "metadata": {},
   "outputs": [
    {
     "data": {
      "text/plain": [
       "192"
      ]
     },
     "execution_count": 3,
     "metadata": {},
     "output_type": "execute_result"
    }
   ],
   "source": [
    "len(contests)"
   ]
  },
  {
   "cell_type": "code",
   "execution_count": 4,
   "metadata": {},
   "outputs": [],
   "source": [
    "summaries = [ccd.summary(c, get=False, path=\"../contests/summaries\") for c in contests]"
   ]
  },
  {
   "cell_type": "code",
   "execution_count": 5,
   "metadata": {},
   "outputs": [],
   "source": [
    "import pandas as pd\n",
    "summary = pd.concat(summaries, sort=False)"
   ]
  },
  {
   "cell_type": "code",
   "execution_count": 6,
   "metadata": {},
   "outputs": [
    {
     "data": {
      "text/html": [
       "<div>\n",
       "<style scoped>\n",
       "    .dataframe tbody tr th:only-of-type {\n",
       "        vertical-align: middle;\n",
       "    }\n",
       "\n",
       "    .dataframe tbody tr th {\n",
       "        vertical-align: top;\n",
       "    }\n",
       "\n",
       "    .dataframe thead th {\n",
       "        text-align: right;\n",
       "    }\n",
       "</style>\n",
       "<table border=\"1\" class=\"dataframe\">\n",
       "  <thead>\n",
       "    <tr style=\"text-align: right;\">\n",
       "      <th></th>\n",
       "      <th>rank</th>\n",
       "      <th>funny</th>\n",
       "      <th>somewhat_funny</th>\n",
       "      <th>unfunny</th>\n",
       "      <th>count</th>\n",
       "      <th>score</th>\n",
       "      <th>precision</th>\n",
       "      <th>contest</th>\n",
       "      <th>caption</th>\n",
       "      <th>target_id</th>\n",
       "      <th>original</th>\n",
       "      <th>somewhat_original</th>\n",
       "      <th>unoriginal</th>\n",
       "    </tr>\n",
       "  </thead>\n",
       "  <tbody>\n",
       "    <tr>\n",
       "      <th>0</th>\n",
       "      <td>1</td>\n",
       "      <td>18.0</td>\n",
       "      <td>27.0</td>\n",
       "      <td>24.0</td>\n",
       "      <td>69</td>\n",
       "      <td>1.913043</td>\n",
       "      <td>0.094022</td>\n",
       "      <td>510</td>\n",
       "      <td>I'm a congressman--obstruction is my job.</td>\n",
       "      <td>NaN</td>\n",
       "      <td>NaN</td>\n",
       "      <td>NaN</td>\n",
       "      <td>NaN</td>\n",
       "    </tr>\n",
       "    <tr>\n",
       "      <th>1</th>\n",
       "      <td>2</td>\n",
       "      <td>5.0</td>\n",
       "      <td>6.0</td>\n",
       "      <td>8.0</td>\n",
       "      <td>19</td>\n",
       "      <td>1.842105</td>\n",
       "      <td>0.191381</td>\n",
       "      <td>510</td>\n",
       "      <td>I'm what they mean when they say, 'The middle ...</td>\n",
       "      <td>NaN</td>\n",
       "      <td>NaN</td>\n",
       "      <td>NaN</td>\n",
       "      <td>NaN</td>\n",
       "    </tr>\n",
       "    <tr>\n",
       "      <th>2</th>\n",
       "      <td>3</td>\n",
       "      <td>8.0</td>\n",
       "      <td>16.0</td>\n",
       "      <td>21.0</td>\n",
       "      <td>45</td>\n",
       "      <td>1.711111</td>\n",
       "      <td>0.112915</td>\n",
       "      <td>510</td>\n",
       "      <td>Does this suit make me look flat?</td>\n",
       "      <td>NaN</td>\n",
       "      <td>NaN</td>\n",
       "      <td>NaN</td>\n",
       "      <td>NaN</td>\n",
       "    </tr>\n",
       "    <tr>\n",
       "      <th>3</th>\n",
       "      <td>4</td>\n",
       "      <td>3.0</td>\n",
       "      <td>14.0</td>\n",
       "      <td>15.0</td>\n",
       "      <td>32</td>\n",
       "      <td>1.625000</td>\n",
       "      <td>0.116657</td>\n",
       "      <td>510</td>\n",
       "      <td>When the right woman comes along, I'll know it.</td>\n",
       "      <td>NaN</td>\n",
       "      <td>NaN</td>\n",
       "      <td>NaN</td>\n",
       "      <td>NaN</td>\n",
       "    </tr>\n",
       "    <tr>\n",
       "      <th>4</th>\n",
       "      <td>5</td>\n",
       "      <td>6.0</td>\n",
       "      <td>9.0</td>\n",
       "      <td>19.0</td>\n",
       "      <td>34</td>\n",
       "      <td>1.617647</td>\n",
       "      <td>0.133610</td>\n",
       "      <td>510</td>\n",
       "      <td>I used to lie in the gutter, but then I quit d...</td>\n",
       "      <td>NaN</td>\n",
       "      <td>NaN</td>\n",
       "      <td>NaN</td>\n",
       "      <td>NaN</td>\n",
       "    </tr>\n",
       "  </tbody>\n",
       "</table>\n",
       "</div>"
      ],
      "text/plain": [
       "   rank  funny  somewhat_funny  unfunny  count     score  precision  contest  \\\n",
       "0     1   18.0            27.0     24.0     69  1.913043   0.094022      510   \n",
       "1     2    5.0             6.0      8.0     19  1.842105   0.191381      510   \n",
       "2     3    8.0            16.0     21.0     45  1.711111   0.112915      510   \n",
       "3     4    3.0            14.0     15.0     32  1.625000   0.116657      510   \n",
       "4     5    6.0             9.0     19.0     34  1.617647   0.133610      510   \n",
       "\n",
       "                                             caption  target_id  original  \\\n",
       "0          I'm a congressman--obstruction is my job.        NaN       NaN   \n",
       "1  I'm what they mean when they say, 'The middle ...        NaN       NaN   \n",
       "2                  Does this suit make me look flat?        NaN       NaN   \n",
       "3    When the right woman comes along, I'll know it.        NaN       NaN   \n",
       "4  I used to lie in the gutter, but then I quit d...        NaN       NaN   \n",
       "\n",
       "   somewhat_original  unoriginal  \n",
       "0                NaN         NaN  \n",
       "1                NaN         NaN  \n",
       "2                NaN         NaN  \n",
       "3                NaN         NaN  \n",
       "4                NaN         NaN  "
      ]
     },
     "execution_count": 6,
     "metadata": {},
     "output_type": "execute_result"
    }
   ],
   "source": [
    "summary.head()"
   ]
  },
  {
   "cell_type": "code",
   "execution_count": 7,
   "metadata": {},
   "outputs": [
    {
     "data": {
      "text/html": [
       "<div>\n",
       "<style scoped>\n",
       "    .dataframe tbody tr th:only-of-type {\n",
       "        vertical-align: middle;\n",
       "    }\n",
       "\n",
       "    .dataframe tbody tr th {\n",
       "        vertical-align: top;\n",
       "    }\n",
       "\n",
       "    .dataframe thead th {\n",
       "        text-align: right;\n",
       "    }\n",
       "</style>\n",
       "<table border=\"1\" class=\"dataframe\">\n",
       "  <thead>\n",
       "    <tr style=\"text-align: right;\">\n",
       "      <th></th>\n",
       "      <th>count</th>\n",
       "    </tr>\n",
       "    <tr>\n",
       "      <th>contest</th>\n",
       "      <th></th>\n",
       "    </tr>\n",
       "  </thead>\n",
       "  <tbody>\n",
       "    <tr>\n",
       "      <th>508</th>\n",
       "      <td>137868</td>\n",
       "    </tr>\n",
       "    <tr>\n",
       "      <th>509</th>\n",
       "      <td>98241</td>\n",
       "    </tr>\n",
       "    <tr>\n",
       "      <th>510</th>\n",
       "      <td>82627</td>\n",
       "    </tr>\n",
       "    <tr>\n",
       "      <th>511</th>\n",
       "      <td>56660</td>\n",
       "    </tr>\n",
       "    <tr>\n",
       "      <th>512</th>\n",
       "      <td>43120</td>\n",
       "    </tr>\n",
       "  </tbody>\n",
       "</table>\n",
       "</div>"
      ],
      "text/plain": [
       "          count\n",
       "contest        \n",
       "508      137868\n",
       "509       98241\n",
       "510       82627\n",
       "511       56660\n",
       "512       43120"
      ]
     },
     "execution_count": 7,
     "metadata": {},
     "output_type": "execute_result"
    }
   ],
   "source": [
    "import numpy as np\n",
    "df = summary.pivot_table(index=\"contest\", values=\"count\", aggfunc=np.sum)\n",
    "df.head()"
   ]
  },
  {
   "cell_type": "code",
   "execution_count": 8,
   "metadata": {},
   "outputs": [],
   "source": [
    "if \"count\" in df.columns:\n",
    "    df[\"responses\"] = df[\"count\"]\n",
    "    del df[\"count\"]\n",
    "df = df.sort_values(by=\"contest\")"
   ]
  },
  {
   "cell_type": "code",
   "execution_count": 9,
   "metadata": {},
   "outputs": [],
   "source": [
    "show = df.iloc[-10:].copy()\n",
    "show[\"responses\"] /= 1e6"
   ]
  },
  {
   "cell_type": "code",
   "execution_count": 10,
   "metadata": {},
   "outputs": [
    {
     "data": {
      "image/png": "[encoded data removed]",
      "text/plain": [
       "<Figure size 432x288 with 1 Axes>"
      ]
     },
     "metadata": {
      "image/png": {
       "height": 271,
       "width": 385
      },
      "needs_background": "light"
     },
     "output_type": "display_data"
    }
   ],
   "source": [
    "import matplotlib.pyplot as plt\n",
    "fig, ax = plt.subplots()\n",
    "show.plot.bar(ax=ax)\n",
    "ax.set_ylabel('responses (millions)')\n",
    "ax.legend_.remove()"
   ]
  },
  {
   "cell_type": "code",
   "execution_count": 12,
   "metadata": {
    "ExecuteTime": {
     "end_time": "2017-04-17T17:39:41.838777Z",
     "start_time": "2017-04-17T12:39:41.819954-05:00"
    }
   },
   "outputs": [
    {
     "data": {
      "application/vnd.vegalite.v3+json": {
       "$schema": "https://vega.github.io/schema/vega-lite/v3.4.0.json",
       "config": {
        "mark": {
         "tooltip": null
        },
        "view": {
         "height": 300,
         "width": 400
        }
       },
       "data": {
        "name": "data-7f111bb765ffdde1e7615de14fd80ec4"
       },
       "datasets": {
        "data-7f111bb765ffdde1e7615de14fd80ec4": [
         {
          "contest": 508,
          "responses": 137868
         },
         {
          "contest": 509,
          "responses": 98241
         },
         {
          "contest": 510,
          "responses": 82627
         },
         {
          "contest": 511,
          "responses": 56660
         },
         {
          "contest": 512,
          "responses": 43120
         },
         {
          "contest": 513,
          "responses": 34013
         },
         {
          "contest": 514,
          "responses": 192198
         },
         {
          "contest": 515,
          "responses": 47448
         },
         {
          "contest": 516,
          "responses": 49365
         },
         {
          "contest": 517,
          "responses": 59717
         },
         {
          "contest": 518,
          "responses": 248180
         },
         {
          "contest": 519,
          "responses": 191935
         },
         {
          "contest": 520,
          "responses": 209322
         },
         {
          "contest": 521,
          "responses": 183912
         },
         {
          "contest": 522,
          "responses": 347335
         },
         {
          "contest": 523,
          "responses": 249063
         },
         {
          "contest": 524,
          "responses": 172680
         },
         {
          "contest": 526,
          "responses": 238677
         },
         {
          "contest": 527,
          "responses": 237412
         },
         {
          "contest": 528,
          "responses": 96609
         },
         {
          "contest": 529,
          "responses": 231291
         },
         {
          "contest": 530,
          "responses": 218558
         },
         {
          "contest": 531,
          "responses": 498337
         },
         {
          "contest": 532,
          "responses": 714986
         },
         {
          "contest": 533,
          "responses": 377496
         },
         {
          "contest": 534,
          "responses": 425529
         },
         {
          "contest": 535,
          "responses": 488929
         },
         {
          "contest": 536,
          "responses": 415065
         },
         {
          "contest": 537,
          "responses": 665537
         },
         {
          "contest": 538,
          "responses": 385675
         },
         {
          "contest": 539,
          "responses": 555190
         },
         {
          "contest": 540,
          "responses": 456690
         },
         {
          "contest": 541,
          "responses": 510944
         },
         {
          "contest": 542,
          "responses": 581602
         },
         {
          "contest": 543,
          "responses": 450498
         },
         {
          "contest": 544,
          "responses": 198246
         },
         {
          "contest": 545,
          "responses": 344095
         },
         {
          "contest": 546,
          "responses": 333116
         },
         {
          "contest": 547,
          "responses": 398746
         },
         {
          "contest": 548,
          "responses": 501425
         },
         {
          "contest": 549,
          "responses": 475431
         },
         {
          "contest": 550,
          "responses": 463593
         },
         {
          "contest": 551,
          "responses": 583185
         },
         {
          "contest": 552,
          "responses": 519548
         },
         {
          "contest": 553,
          "responses": 547090
         },
         {
          "contest": 554,
          "responses": 928060
         },
         {
          "contest": 555,
          "responses": 501078
         },
         {
          "contest": 556,
          "responses": 713533
         },
         {
          "contest": 557,
          "responses": 767998
         },
         {
          "contest": 558,
          "responses": 524297
         },
         {
          "contest": 559,
          "responses": 562601
         },
         {
          "contest": 560,
          "responses": 484493
         },
         {
          "contest": 561,
          "responses": 438112
         },
         {
          "contest": 562,
          "responses": 176381
         },
         {
          "contest": 563,
          "responses": 128912
         },
         {
          "contest": 564,
          "responses": 349268
         },
         {
          "contest": 565,
          "responses": 148779
         },
         {
          "contest": 566,
          "responses": 191877
         },
         {
          "contest": 567,
          "responses": 239829
         },
         {
          "contest": 568,
          "responses": 290737
         },
         {
          "contest": 569,
          "responses": 270136
         },
         {
          "contest": 570,
          "responses": 303014
         },
         {
          "contest": 571,
          "responses": 363323
         },
         {
          "contest": 572,
          "responses": 218335
         },
         {
          "contest": 573,
          "responses": 366782
         },
         {
          "contest": 574,
          "responses": 410803
         },
         {
          "contest": 575,
          "responses": 593171
         },
         {
          "contest": 576,
          "responses": 284529
         },
         {
          "contest": 577,
          "responses": 389881
         },
         {
          "contest": 578,
          "responses": 593761
         },
         {
          "contest": 579,
          "responses": 480412
         },
         {
          "contest": 580,
          "responses": 425835
         },
         {
          "contest": 581,
          "responses": 203573
         },
         {
          "contest": 582,
          "responses": 196119
         },
         {
          "contest": 583,
          "responses": 342411
         },
         {
          "contest": 584,
          "responses": 501501
         },
         {
          "contest": 585,
          "responses": 356787
         },
         {
          "contest": 586,
          "responses": 480072
         },
         {
          "contest": 587,
          "responses": 488546
         },
         {
          "contest": 588,
          "responses": 295566
         },
         {
          "contest": 589,
          "responses": 628409
         },
         {
          "contest": 590,
          "responses": 891586
         },
         {
          "contest": 591,
          "responses": 683358
         },
         {
          "contest": 592,
          "responses": 1021316
         },
         {
          "contest": 593,
          "responses": 619876
         },
         {
          "contest": 594,
          "responses": 260848
         },
         {
          "contest": 595,
          "responses": 421560
         },
         {
          "contest": 596,
          "responses": 338162
         },
         {
          "contest": 597,
          "responses": 818622
         },
         {
          "contest": 598,
          "responses": 347381
         },
         {
          "contest": 599,
          "responses": 511658
         },
         {
          "contest": 600,
          "responses": 757243
         },
         {
          "contest": 601,
          "responses": 468015
         },
         {
          "contest": 602,
          "responses": 882768
         },
         {
          "contest": 603,
          "responses": 1286234
         },
         {
          "contest": 604,
          "responses": 805609
         },
         {
          "contest": 605,
          "responses": 770768
         },
         {
          "contest": 606,
          "responses": 46951
         },
         {
          "contest": 607,
          "responses": 1026981
         },
         {
          "contest": 608,
          "responses": 957697
         },
         {
          "contest": 609,
          "responses": 1046199
         },
         {
          "contest": 610,
          "responses": 1220029
         },
         {
          "contest": 611,
          "responses": 1135917
         },
         {
          "contest": 612,
          "responses": 912652
         },
         {
          "contest": 613,
          "responses": 832844
         },
         {
          "contest": 614,
          "responses": 801294
         },
         {
          "contest": 615,
          "responses": 798876
         },
         {
          "contest": 616,
          "responses": 663636
         },
         {
          "contest": 617,
          "responses": 895011
         },
         {
          "contest": 618,
          "responses": 1376577
         },
         {
          "contest": 619,
          "responses": 867527
         },
         {
          "contest": 620,
          "responses": 836027
         },
         {
          "contest": 621,
          "responses": 1210323
         },
         {
          "contest": 622,
          "responses": 99592
         },
         {
          "contest": 623,
          "responses": 971088
         },
         {
          "contest": 624,
          "responses": 712054
         },
         {
          "contest": 625,
          "responses": 1326529
         },
         {
          "contest": 626,
          "responses": 994702
         },
         {
          "contest": 627,
          "responses": 1162999
         },
         {
          "contest": 628,
          "responses": 1302098
         },
         {
          "contest": 629,
          "responses": 865017
         },
         {
          "contest": 630,
          "responses": 1159733
         },
         {
          "contest": 631,
          "responses": 1065763
         },
         {
          "contest": 632,
          "responses": 663855
         },
         {
          "contest": 633,
          "responses": 844596
         },
         {
          "contest": 634,
          "responses": 929951
         },
         {
          "contest": 635,
          "responses": 1311984
         },
         {
          "contest": 636,
          "responses": 1098739
         },
         {
          "contest": 637,
          "responses": 824593
         },
         {
          "contest": 638,
          "responses": 882701
         },
         {
          "contest": 639,
          "responses": 1063820
         },
         {
          "contest": 640,
          "responses": 1631425
         },
         {
          "contest": 641,
          "responses": 1400950
         },
         {
          "contest": 642,
          "responses": 881547
         },
         {
          "contest": 643,
          "responses": 1185450
         },
         {
          "contest": 644,
          "responses": 1629394
         },
         {
          "contest": 645,
          "responses": 982979
         },
         {
          "contest": 646,
          "responses": 1626322
         },
         {
          "contest": 647,
          "responses": 1690546
         },
         {
          "contest": 648,
          "responses": 708793
         },
         {
          "contest": 649,
          "responses": 1197306
         },
         {
          "contest": 650,
          "responses": 1040362
         },
         {
          "contest": 651,
          "responses": 2249813
         },
         {
          "contest": 652,
          "responses": 1454910
         },
         {
          "contest": 653,
          "responses": 1034443
         },
         {
          "contest": 654,
          "responses": 1286972
         },
         {
          "contest": 655,
          "responses": 758127
         },
         {
          "contest": 656,
          "responses": 769984
         },
         {
          "contest": 657,
          "responses": 1528352
         },
         {
          "contest": 658,
          "responses": 993479
         },
         {
          "contest": 659,
          "responses": 1028025
         },
         {
          "contest": 660,
          "responses": 1060195
         },
         {
          "contest": 661,
          "responses": 885043
         },
         {
          "contest": 662,
          "responses": 873256
         },
         {
          "contest": 663,
          "responses": 729225
         },
         {
          "contest": 665,
          "responses": 1009327
         },
         {
          "contest": 666,
          "responses": 1442398
         },
         {
          "contest": 667,
          "responses": 668016
         },
         {
          "contest": 668,
          "responses": 1115459
         },
         {
          "contest": 669,
          "responses": 708985
         },
         {
          "contest": 670,
          "responses": 684829
         },
         {
          "contest": 671,
          "responses": 629725
         },
         {
          "contest": 672,
          "responses": 901300
         },
         {
          "contest": 673,
          "responses": 772800
         },
         {
          "contest": 674,
          "responses": 588006
         },
         {
          "contest": 675,
          "responses": 1090631
         },
         {
          "contest": 676,
          "responses": 909336
         },
         {
          "contest": 677,
          "responses": 671896
         },
         {
          "contest": 678,
          "responses": 690984
         },
         {
          "contest": 679,
          "responses": 917392
         },
         {
          "contest": 680,
          "responses": 1085567
         },
         {
          "contest": 681,
          "responses": 1104910
         },
         {
          "contest": 682,
          "responses": 795448
         },
         {
          "contest": 683,
          "responses": 1074563
         },
         {
          "contest": 684,
          "responses": 870057
         }
        ]
       },
       "encoding": {
        "x": {
         "field": "contest",
         "scale": {
          "zero": false
         },
         "type": "ordinal"
        },
        "y": {
         "field": "responses",
         "type": "quantitative"
        }
       },
       "mark": "bar"
      },
      "image/png": "[encoded data removed]",
      "text/plain": [
       "<VegaLite 3 object>\n",
       "\n",
       "If you see this message, it means the renderer has not been properly enabled\n",
       "for the frontend that you are using. For more information, see\n",
       "https://altair-viz.github.io/user_guide/troubleshooting.html\n"
      ]
     },
     "execution_count": 12,
     "metadata": {},
     "output_type": "execute_result"
    }
   ],
   "source": [
    "from altair import Chart, X, Y, Scale\n",
    "\n",
    "show = df.copy()\n",
    "show[\"contest\"] = show.index\n",
    "Chart(show).mark_bar().encode(\n",
    "    x=X('contest:O', scale=Scale(zero=False)),\n",
    "    y='responses')"
   ]
  },
  {
   "cell_type": "code",
   "execution_count": 13,
   "metadata": {},
   "outputs": [
    {
     "data": {
      "text/plain": [
       "118.107991"
      ]
     },
     "execution_count": 13,
     "metadata": {},
     "output_type": "execute_result"
    }
   ],
   "source": [
    "sum(df[\"responses\"]) / 1e6"
   ]
  },
  {
   "cell_type": "code",
   "execution_count": null,
   "metadata": {},
   "outputs": [],
   "source": []
  }
 ],
 "metadata": {
  "kernelspec": {
   "display_name": "Python 3",
   "language": "python",
   "name": "python3"
  },
  "language_info": {
   "codemirror_mode": {
    "name": "ipython",
    "version": 3
   },
   "file_extension": ".py",
   "mimetype": "text/x-python",
   "name": "python",
   "nbconvert_exporter": "python",
   "pygments_lexer": "ipython3",
   "version": "3.7.5"
  }
 },
 "nbformat": 4,
 "nbformat_minor": 4
}
