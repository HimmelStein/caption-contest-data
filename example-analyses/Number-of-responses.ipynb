{
 "cells": [
  {
   "cell_type": "markdown",
   "metadata": {},
   "source": [
    "This notebook will analyze\n",
    "\n",
    "1. the number of responses recorded in the CSVs\n",
    "2. the number of responses recorded in `info.png`."
   ]
  },
  {
   "cell_type": "code",
   "execution_count": 1,
   "metadata": {
    "ExecuteTime": {
     "end_time": "2017-04-17T16:45:18.366875Z",
     "start_time": "2017-04-17T11:45:18.364200-05:00"
    },
    "collapsed": true
   },
   "outputs": [],
   "source": [
    "import os\n",
    "import utils"
   ]
  },
  {
   "cell_type": "code",
   "execution_count": 20,
   "metadata": {},
   "outputs": [
    {
     "name": "stdout",
     "output_type": "stream",
     "text": [
      "634_summary_KLUCB.csv\n",
      "563_summary_KLUCB.csv\n",
      "513_summary_RoundRobin.csv\n",
      "514_summary_LilUCB.csv\n",
      "628_summary_KLUCB.csv\n",
      "519_summary_LilUCB.csv\n",
      "600_summary_KLUCB.csv\n",
      "519_summary_RoundRobin.csv\n",
      "587_summary_KLUCB.csv\n",
      "619_summary_KLUCB.csv\n",
      "559_summary_RandomSamping.csv\n",
      "547_summary_LilUCB.csv\n",
      "524_summary_LilUCB.csv\n",
      "631_summary_KLUCB.csv\n",
      "529_summary_LilUCB.csv\n",
      "566_summary_KLUCB.csv\n",
      "514_summary_RoundRobin.csv\n",
      "539_summary_LilUCB.csv\n",
      "582_summary_KLUCB.csv\n",
      "534_summary_LilUCB.csv\n",
      "605_summary_KLUCB.csv\n",
      "557_summary_LilUCB.csv\n",
      "635_summary_KLUCB.csv\n",
      "537_summary_LilUCB.csv\n",
      "560_summary_KLUCB_original.csv\n",
      "554_summary_LilUCB.csv\n",
      "562_summary_KLUCB.csv\n",
      "559_summary_LilUCB.csv\n",
      "629_summary_KLUCB.csv\n",
      "549_summary_LilUCB.csv\n",
      "601_summary_KLUCB.csv\n",
      "517_summary_RoundRobin.csv\n",
      "544_summary_LilUCB.csv\n",
      "527_summary_LilUCB.csv\n",
      "586_summary_KLUCB.csv\n",
      "618_summary_KLUCB.csv\n",
      "517_summary_LilUCB.csv\n",
      "630_summary_KLUCB.csv\n",
      "567_summary_KLUCB.csv\n",
      "583_summary_KLUCB.csv\n",
      "604_summary_KLUCB.csv\n",
      "510_summary_RoundRobin.csv\n",
      "599_summary_KLUCB.csv\n",
      "511_summary_RoundRobin.csv\n",
      "561_summary_KLUCB.csv\n",
      "511_summary_LilUCB.csv\n",
      "602_summary_KLUCB.csv\n",
      "585_summary_KLUCB.csv\n",
      "552_summary_LilUCB.csv\n",
      "531_summary_LilUCB.csv\n",
      "516_summary_RoundRobin.csv\n",
      "564_summary_KLUCB.csv\n",
      "633_summary_KLUCB.csv\n",
      "578_summary_KLUCB.csv\n",
      "521_summary_LilUCB.csv\n",
      "542_summary_LilUCB.csv\n",
      "580_summary_KLUCB.csv\n",
      "607_summary_KLUCB.csv\n",
      "522_summary_LilUCB.csv\n",
      "598_summary_KLUCB.csv\n",
      "541_summary_LilUCB.csv\n",
      "515_summary_RoundRobin.csv\n",
      "551_summary_LilUCB.csv\n",
      "532_summary_LilUCB.csv\n",
      "603_summary_KLUCB.csv\n",
      "584_summary_KLUCB.csv\n",
      "518_summary_RoundRobin.csv\n",
      "512_summary_RoundRobin.csv\n",
      "565_summary_KLUCB.csv\n",
      "632_summary_KLUCB.csv\n",
      "579_summary_KLUCB.csv\n",
      "581_summary_KLUCB.csv\n",
      "512_summary_LilUCB.csv\n",
      "606_summary_KLUCB.csv\n",
      "533_summary_LilUCB.csv\n",
      "550_summary_LilUCB.csv\n",
      "613_summary_KLUCB.csv\n",
      "594_summary_KLUCB.csv\n",
      "540_summary_Random.csv\n",
      "588_summary_KLUCB.csv\n",
      "523_summary_LilUCB.csv\n",
      "627_summary_KLUCB.csv\n",
      "570_summary_KLUCB.csv\n",
      "569_summary_KLUCB.csv\n",
      "513_summary_LilUCB.csv\n",
      "591_summary_KLUCB.csv\n",
      "616_summary_KLUCB.csv\n",
      "622_summary_KLUCB.csv\n",
      "575_summary_KLUCB.csv\n",
      "612_summary_KLUCB.csv\n",
      "595_summary_KLUCB.csv\n",
      "589_summary_KLUCB.csv\n",
      "559_summary_KLUCB.csv\n",
      "626_summary_KLUCB.csv\n",
      "571_summary_KLUCB.csv\n",
      "510_summary_LilUCB.csv\n",
      "568_summary_KLUCB.csv\n",
      "543_summary_LilUCB.csv\n",
      "520_summary_LilUCB.csv\n",
      "590_summary_KLUCB.csv\n",
      "617_summary_KLUCB.csv\n",
      "530_summary_LilUCB.csv\n",
      "553_summary_LilUCB.csv\n",
      "623_summary_KLUCB.csv\n",
      "574_summary_KLUCB.csv\n",
      "611_summary_KLUCB.csv\n",
      "548_summary_LilUCB.csv\n",
      "596_summary_KLUCB.csv\n",
      "526_summary_LilUCB.csv\n",
      "545_summary_LilUCB.csv\n",
      "572_summary_KLUCB.csv\n",
      "555_summary_LilUCB.csv\n",
      "625_summary_KLUCB.csv\n",
      "536_summary_LilUCB.csv\n",
      "558_summary_LilUCB.csv\n",
      "560_summary_KLUCB_funny.csv\n",
      "593_summary_KLUCB.csv\n",
      "614_summary_KLUCB.csv\n",
      "608_summary_KLUCB.csv\n",
      "516_summary_LilUCB.csv\n",
      "577_summary_KLUCB.csv\n",
      "620_summary_KLUCB.csv\n",
      "515_summary_LilUCB.csv\n",
      "518_summary_LilUCB.csv\n",
      "610_summary_KLUCB.csv\n",
      "597_summary_KLUCB.csv\n",
      "573_summary_KLUCB.csv\n",
      "624_summary_KLUCB.csv\n",
      "592_summary_KLUCB.csv\n",
      "538_summary_LilUCB.csv\n",
      "556_summary_LilUCB.csv\n",
      "535_summary_LilUCB.csv\n",
      "615_summary_KLUCB.csv\n",
      "609_summary_KLUCB.csv\n",
      "546_summary_LilUCB.csv\n",
      "576_summary_KLUCB.csv\n",
      "528_summary_LilUCB.csv\n",
      "621_summary_KLUCB.csv\n"
     ]
    },
    {
     "name": "stderr",
     "output_type": "stream",
     "text": [
      "/Users/scott/Developer/nextml/caption-contest-data/example-analyses/utils.py:222: FutureWarning: Sorting because non-concatenation axis is not aligned. A future version\n",
      "of pandas will change to not sort by default.\n",
      "\n",
      "To accept the future behavior, pass 'sort=True'.\n",
      "\n",
      "To retain the current behavior and silence the warning, pass sort=False\n",
      "\n",
      "  return pd.concat(data)\n"
     ]
    }
   ],
   "source": [
    "summaries = utils.read_all_summaries()"
   ]
  },
  {
   "cell_type": "code",
   "execution_count": 52,
   "metadata": {},
   "outputs": [
    {
     "data": {
      "text/html": [
       "<div>\n",
       "<style scoped>\n",
       "    .dataframe tbody tr th:only-of-type {\n",
       "        vertical-align: middle;\n",
       "    }\n",
       "\n",
       "    .dataframe tbody tr th {\n",
       "        vertical-align: top;\n",
       "    }\n",
       "\n",
       "    .dataframe thead th {\n",
       "        text-align: right;\n",
       "    }\n",
       "</style>\n",
       "<table border=\"1\" class=\"dataframe\">\n",
       "  <thead>\n",
       "    <tr style=\"text-align: right;\">\n",
       "      <th></th>\n",
       "      <th>count</th>\n",
       "    </tr>\n",
       "    <tr>\n",
       "      <th>contest</th>\n",
       "      <th></th>\n",
       "    </tr>\n",
       "  </thead>\n",
       "  <tbody>\n",
       "    <tr>\n",
       "      <th>510</th>\n",
       "      <td>82627.0</td>\n",
       "    </tr>\n",
       "    <tr>\n",
       "      <th>511</th>\n",
       "      <td>56660.0</td>\n",
       "    </tr>\n",
       "    <tr>\n",
       "      <th>512</th>\n",
       "      <td>43120.0</td>\n",
       "    </tr>\n",
       "    <tr>\n",
       "      <th>513</th>\n",
       "      <td>34013.0</td>\n",
       "    </tr>\n",
       "    <tr>\n",
       "      <th>514</th>\n",
       "      <td>192198.0</td>\n",
       "    </tr>\n",
       "  </tbody>\n",
       "</table>\n",
       "</div>"
      ],
      "text/plain": [
       "            count\n",
       "contest          \n",
       "510       82627.0\n",
       "511       56660.0\n",
       "512       43120.0\n",
       "513       34013.0\n",
       "514      192198.0"
      ]
     },
     "execution_count": 52,
     "metadata": {},
     "output_type": "execute_result"
    }
   ],
   "source": [
    "import numpy as np\n",
    "df = summaries.pivot_table(index=\"contest\", values=\"count\", aggfunc=np.sum)\n",
    "df.head()"
   ]
  },
  {
   "cell_type": "code",
   "execution_count": 53,
   "metadata": {},
   "outputs": [],
   "source": [
    "if \"count\" in df.columns:\n",
    "    df[\"responses\"] = df[\"count\"]\n",
    "    del df[\"count\"]\n",
    "df = df.sort_values(by=\"contest\")"
   ]
  },
  {
   "cell_type": "code",
   "execution_count": 56,
   "metadata": {},
   "outputs": [],
   "source": [
    "show = df.iloc[-10:].copy()\n",
    "show[\"responses\"] /= 1e6"
   ]
  },
  {
   "cell_type": "code",
   "execution_count": 57,
   "metadata": {},
   "outputs": [
    {
     "data": {
      "image/png": "[encoded data removed]",
      "text/plain": [
       "<Figure size 432x288 with 1 Axes>"
      ]
     },
     "metadata": {
      "image/png": {
       "height": 273,
       "width": 387
      }
     },
     "output_type": "display_data"
    }
   ],
   "source": [
    "import matplotlib.pyplot as plt\n",
    "fig, ax = plt.subplots()\n",
    "show.plot.bar(ax=ax)\n",
    "ax.set_ylabel('responses (millions)')\n",
    "ax.legend_.remove()"
   ]
  },
  {
   "cell_type": "code",
   "execution_count": 43,
   "metadata": {
    "ExecuteTime": {
     "end_time": "2017-04-17T17:39:41.838777Z",
     "start_time": "2017-04-17T12:39:41.819954-05:00"
    }
   },
   "outputs": [
    {
     "data": {
      "application/vnd.vegalite.v2+json": {
       "$schema": "https://vega.github.io/schema/vega-lite/v2.6.0.json",
       "config": {
        "view": {
         "height": 300,
         "width": 400
        }
       },
       "data": {
        "name": "data-83635e289e28c671f8e11c77500bfd12"
       },
       "datasets": {
        "data-83635e289e28c671f8e11c77500bfd12": [
         {
          "contest": 510,
          "responses": 82627
         },
         {
          "contest": 511,
          "responses": 56660
         },
         {
          "contest": 512,
          "responses": 43120
         },
         {
          "contest": 513,
          "responses": 34013
         },
         {
          "contest": 514,
          "responses": 192198
         },
         {
          "contest": 515,
          "responses": 47448
         },
         {
          "contest": 516,
          "responses": 49365
         },
         {
          "contest": 517,
          "responses": 59717
         },
         {
          "contest": 518,
          "responses": 248180
         },
         {
          "contest": 519,
          "responses": 191935
         },
         {
          "contest": 520,
          "responses": 209322
         },
         {
          "contest": 521,
          "responses": 183912
         },
         {
          "contest": 522,
          "responses": 347335
         },
         {
          "contest": 523,
          "responses": 260331
         },
         {
          "contest": 524,
          "responses": 172680
         },
         {
          "contest": 526,
          "responses": 238677
         },
         {
          "contest": 527,
          "responses": 0
         },
         {
          "contest": 528,
          "responses": 0
         },
         {
          "contest": 529,
          "responses": 0
         },
         {
          "contest": 530,
          "responses": 0
         },
         {
          "contest": 531,
          "responses": 498337
         },
         {
          "contest": 532,
          "responses": 714986
         },
         {
          "contest": 533,
          "responses": 377496
         },
         {
          "contest": 534,
          "responses": 425529
         },
         {
          "contest": 535,
          "responses": 488929
         },
         {
          "contest": 536,
          "responses": 415065
         },
         {
          "contest": 537,
          "responses": 665537
         },
         {
          "contest": 538,
          "responses": 385675
         },
         {
          "contest": 539,
          "responses": 555190
         },
         {
          "contest": 540,
          "responses": 456690
         },
         {
          "contest": 541,
          "responses": 510944
         },
         {
          "contest": 542,
          "responses": 581602
         },
         {
          "contest": 543,
          "responses": 450498
         },
         {
          "contest": 544,
          "responses": 198246
         },
         {
          "contest": 545,
          "responses": 344095
         },
         {
          "contest": 546,
          "responses": 333116
         },
         {
          "contest": 547,
          "responses": 398746
         },
         {
          "contest": 548,
          "responses": 501425
         },
         {
          "contest": 549,
          "responses": 475431
         },
         {
          "contest": 550,
          "responses": 463593
         },
         {
          "contest": 551,
          "responses": 583185
         },
         {
          "contest": 552,
          "responses": 519548
         },
         {
          "contest": 553,
          "responses": 547090
         },
         {
          "contest": 554,
          "responses": 928060
         },
         {
          "contest": 555,
          "responses": 501078
         },
         {
          "contest": 556,
          "responses": 713533
         },
         {
          "contest": 557,
          "responses": 767998
         },
         {
          "contest": 558,
          "responses": 524297
         },
         {
          "contest": 559,
          "responses": 562601
         },
         {
          "contest": 560,
          "responses": 484493
         },
         {
          "contest": 561,
          "responses": 438112
         },
         {
          "contest": 562,
          "responses": 176381
         },
         {
          "contest": 563,
          "responses": 128912
         },
         {
          "contest": 564,
          "responses": 349268
         },
         {
          "contest": 565,
          "responses": 148779
         },
         {
          "contest": 566,
          "responses": 191877
         },
         {
          "contest": 567,
          "responses": 239829
         },
         {
          "contest": 568,
          "responses": 290737
         },
         {
          "contest": 569,
          "responses": 270136
         },
         {
          "contest": 570,
          "responses": 303014
         },
         {
          "contest": 571,
          "responses": 363323
         },
         {
          "contest": 572,
          "responses": 218335
         },
         {
          "contest": 573,
          "responses": 366782
         },
         {
          "contest": 574,
          "responses": 410803
         },
         {
          "contest": 575,
          "responses": 593171
         },
         {
          "contest": 576,
          "responses": 284529
         },
         {
          "contest": 577,
          "responses": 389881
         },
         {
          "contest": 578,
          "responses": 593761
         },
         {
          "contest": 579,
          "responses": 480412
         },
         {
          "contest": 580,
          "responses": 425835
         },
         {
          "contest": 581,
          "responses": 203573
         },
         {
          "contest": 582,
          "responses": 196119
         },
         {
          "contest": 583,
          "responses": 342411
         },
         {
          "contest": 584,
          "responses": 501501
         },
         {
          "contest": 585,
          "responses": 356787
         },
         {
          "contest": 586,
          "responses": 480072
         },
         {
          "contest": 587,
          "responses": 488525
         },
         {
          "contest": 588,
          "responses": 295551
         },
         {
          "contest": 589,
          "responses": 628320
         },
         {
          "contest": 590,
          "responses": 891259
         },
         {
          "contest": 591,
          "responses": 683357
         },
         {
          "contest": 592,
          "responses": 1021298
         },
         {
          "contest": 593,
          "responses": 619876
         },
         {
          "contest": 594,
          "responses": 260848
         },
         {
          "contest": 595,
          "responses": 421560
         },
         {
          "contest": 596,
          "responses": 338162
         },
         {
          "contest": 597,
          "responses": 818541
         },
         {
          "contest": 598,
          "responses": 347381
         },
         {
          "contest": 599,
          "responses": 511647
         },
         {
          "contest": 600,
          "responses": 757201
         },
         {
          "contest": 601,
          "responses": 468015
         },
         {
          "contest": 602,
          "responses": 882768
         },
         {
          "contest": 603,
          "responses": 1286233
         },
         {
          "contest": 604,
          "responses": 805427
         },
         {
          "contest": 605,
          "responses": 770552
         },
         {
          "contest": 606,
          "responses": 46951
         },
         {
          "contest": 607,
          "responses": 1026927
         },
         {
          "contest": 608,
          "responses": 957406
         },
         {
          "contest": 609,
          "responses": 1046199
         },
         {
          "contest": 610,
          "responses": 1219947
         },
         {
          "contest": 611,
          "responses": 1135773
         },
         {
          "contest": 612,
          "responses": 912599
         },
         {
          "contest": 613,
          "responses": 832844
         },
         {
          "contest": 614,
          "responses": 801031
         },
         {
          "contest": 615,
          "responses": 798876
         },
         {
          "contest": 616,
          "responses": 663572
         },
         {
          "contest": 617,
          "responses": 895010
         },
         {
          "contest": 618,
          "responses": 1376512
         },
         {
          "contest": 619,
          "responses": 867441
         },
         {
          "contest": 620,
          "responses": 835987
         },
         {
          "contest": 621,
          "responses": 1210310
         },
         {
          "contest": 622,
          "responses": 99592
         },
         {
          "contest": 623,
          "responses": 970853
         },
         {
          "contest": 624,
          "responses": 712054
         },
         {
          "contest": 625,
          "responses": 1326475
         },
         {
          "contest": 626,
          "responses": 994662
         },
         {
          "contest": 627,
          "responses": 1162946
         },
         {
          "contest": 628,
          "responses": 1302031
         },
         {
          "contest": 629,
          "responses": 865000
         },
         {
          "contest": 630,
          "responses": 1159678
         },
         {
          "contest": 631,
          "responses": 1065339
         },
         {
          "contest": 632,
          "responses": 663855
         },
         {
          "contest": 633,
          "responses": 844553
         },
         {
          "contest": 634,
          "responses": 929951
         },
         {
          "contest": 635,
          "responses": 1311984
         }
        ]
       },
       "encoding": {
        "x": {
         "field": "contest",
         "scale": {
          "zero": false
         },
         "type": "ordinal"
        },
        "y": {
         "field": "responses",
         "type": "quantitative"
        }
       },
       "mark": "bar"
      },
      "image/png": "[encoded data removed]",
      "text/plain": [
       "<VegaLite 2 object>\n",
       "\n",
       "If you see this message, it means the renderer has not been properly enabled\n",
       "for the frontend that you are using. For more information, see\n",
       "https://altair-viz.github.io/user_guide/troubleshooting.html\n"
      ]
     },
     "execution_count": 43,
     "metadata": {},
     "output_type": "execute_result"
    }
   ],
   "source": [
    "from altair import Chart, X, Y, Scale\n",
    "\n",
    "show = df.copy()\n",
    "show[\"contest\"] = show.index\n",
    "Chart(show).mark_bar().encode(\n",
    "    x=X('contest:O', scale=Scale(zero=False)),\n",
    "    y='responses')"
   ]
  },
  {
   "cell_type": "code",
   "execution_count": 58,
   "metadata": {},
   "outputs": [
    {
     "data": {
      "text/plain": [
       "66.867752"
      ]
     },
     "execution_count": 58,
     "metadata": {},
     "output_type": "execute_result"
    }
   ],
   "source": [
    "sum(df[\"responses\"]) / 1e6"
   ]
  },
  {
   "cell_type": "code",
   "execution_count": null,
   "metadata": {},
   "outputs": [],
   "source": []
  }
 ],
 "metadata": {
  "kernelspec": {
   "display_name": "Python 3",
   "language": "python",
   "name": "python3"
  },
  "language_info": {
   "codemirror_mode": {
    "name": "ipython",
    "version": 3
   },
   "file_extension": ".py",
   "mimetype": "text/x-python",
   "name": "python",
   "nbconvert_exporter": "python",
   "pygments_lexer": "ipython3",
   "version": "3.6.5"
  }
 },
 "nbformat": 4,
 "nbformat_minor": 2
}
